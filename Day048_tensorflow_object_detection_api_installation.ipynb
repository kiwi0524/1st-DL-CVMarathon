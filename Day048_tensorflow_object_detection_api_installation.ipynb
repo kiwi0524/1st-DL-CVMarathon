{
 "cells": [
  {
   "cell_type": "markdown",
   "metadata": {},
   "source": [
    "# 將自己的 google drive 空間 mount 到 colab 環境\n",
    "\n",
    "- 若在 colab 環境，請執行下面程式，點開連結及選取自己的 gmail，將許可碼拷貝貼在格子裡"
   ]
  },
  {
   "cell_type": "code",
   "execution_count": null,
   "metadata": {},
   "outputs": [],
   "source": [
    "from google.colab import drive\n",
    "drive.mount('/content/gdrive')"
   ]
  },
  {
   "cell_type": "code",
   "execution_count": null,
   "metadata": {},
   "outputs": [],
   "source": [
    "%cd /content/gdrive/My\\ Drive"
   ]
  },
  {
   "cell_type": "markdown",
   "metadata": {},
   "source": [
    "# 安裝相關套件"
   ]
  },
  {
   "cell_type": "code",
   "execution_count": 1,
   "metadata": {},
   "outputs": [
    {
     "name": "stdout",
     "output_type": "stream",
     "text": [
      "Requirement already satisfied: Cython in c:\\users\\abc\\anaconda3\\lib\\site-packages (0.29.12)\n",
      "Requirement already satisfied: jupyter in c:\\users\\abc\\anaconda3\\lib\\site-packages (1.0.0)\n",
      "Requirement already satisfied: ipykernel in c:\\users\\abc\\anaconda3\\lib\\site-packages (from jupyter) (5.1.1)\n",
      "Requirement already satisfied: jupyter-console in c:\\users\\abc\\anaconda3\\lib\\site-packages (from jupyter) (6.0.0)\n",
      "Requirement already satisfied: notebook in c:\\users\\abc\\anaconda3\\lib\\site-packages (from jupyter) (6.0.0)\n",
      "Requirement already satisfied: nbconvert in c:\\users\\abc\\anaconda3\\lib\\site-packages (from jupyter) (5.5.0)\n",
      "Requirement already satisfied: qtconsole in c:\\users\\abc\\anaconda3\\lib\\site-packages (from jupyter) (4.5.1)\n",
      "Requirement already satisfied: ipywidgets in c:\\users\\abc\\anaconda3\\lib\\site-packages (from jupyter) (7.5.0)\n",
      "Requirement already satisfied: traitlets>=4.1.0 in c:\\users\\abc\\anaconda3\\lib\\site-packages (from ipykernel->jupyter) (4.3.2)\n",
      "Requirement already satisfied: jupyter-client in c:\\users\\abc\\anaconda3\\lib\\site-packages (from ipykernel->jupyter) (5.3.1)\n",
      "Requirement already satisfied: tornado>=4.2 in c:\\users\\abc\\anaconda3\\lib\\site-packages (from ipykernel->jupyter) (6.0.3)\n",
      "Requirement already satisfied: ipython>=5.0.0 in c:\\users\\abc\\anaconda3\\lib\\site-packages (from ipykernel->jupyter) (7.6.1)\n",
      "Requirement already satisfied: prompt_toolkit<2.1.0,>=2.0.0 in c:\\users\\abc\\anaconda3\\lib\\site-packages (from jupyter-console->jupyter) (2.0.9)\n",
      "Requirement already satisfied: pygments in c:\\users\\abc\\anaconda3\\lib\\site-packages (from jupyter-console->jupyter) (2.4.2)\n",
      "Requirement already satisfied: pyzmq>=17 in c:\\users\\abc\\anaconda3\\lib\\site-packages (from notebook->jupyter) (18.0.0)\n",
      "Requirement already satisfied: nbformat in c:\\users\\abc\\anaconda3\\lib\\site-packages (from notebook->jupyter) (4.4.0)\n",
      "Requirement already satisfied: Send2Trash in c:\\users\\abc\\anaconda3\\lib\\site-packages (from notebook->jupyter) (1.5.0)\n",
      "Requirement already satisfied: jinja2 in c:\\users\\abc\\anaconda3\\lib\\site-packages (from notebook->jupyter) (2.10.1)\n",
      "Requirement already satisfied: ipython-genutils in c:\\users\\abc\\anaconda3\\lib\\site-packages (from notebook->jupyter) (0.2.0)\n",
      "Requirement already satisfied: jupyter-core>=4.4.0 in c:\\users\\abc\\anaconda3\\lib\\site-packages (from notebook->jupyter) (4.5.0)\n",
      "Requirement already satisfied: prometheus-client in c:\\users\\abc\\anaconda3\\lib\\site-packages (from notebook->jupyter) (0.7.1)\n",
      "Requirement already satisfied: terminado>=0.8.1 in c:\\users\\abc\\anaconda3\\lib\\site-packages (from notebook->jupyter) (0.8.2)\n",
      "Requirement already satisfied: testpath in c:\\users\\abc\\anaconda3\\lib\\site-packages (from nbconvert->jupyter) (0.4.2)\n",
      "Requirement already satisfied: entrypoints>=0.2.2 in c:\\users\\abc\\anaconda3\\lib\\site-packages (from nbconvert->jupyter) (0.3)\n",
      "Requirement already satisfied: pandocfilters>=1.4.1 in c:\\users\\abc\\anaconda3\\lib\\site-packages (from nbconvert->jupyter) (1.4.2)\n",
      "Requirement already satisfied: defusedxml in c:\\users\\abc\\anaconda3\\lib\\site-packages (from nbconvert->jupyter) (0.6.0)\n",
      "Requirement already satisfied: mistune>=0.8.1 in c:\\users\\abc\\anaconda3\\lib\\site-packages (from nbconvert->jupyter) (0.8.4)\n",
      "Requirement already satisfied: bleach in c:\\users\\abc\\anaconda3\\lib\\site-packages (from nbconvert->jupyter) (3.1.0)\n",
      "Requirement already satisfied: widgetsnbextension~=3.5.0 in c:\\users\\abc\\anaconda3\\lib\\site-packages (from ipywidgets->jupyter) (3.5.0)\n",
      "Requirement already satisfied: six in c:\\users\\abc\\anaconda3\\lib\\site-packages (from traitlets>=4.1.0->ipykernel->jupyter) (1.12.0)\n",
      "Requirement already satisfied: decorator in c:\\users\\abc\\anaconda3\\lib\\site-packages (from traitlets>=4.1.0->ipykernel->jupyter) (4.4.0)\n",
      "Requirement already satisfied: python-dateutil>=2.1 in c:\\users\\abc\\anaconda3\\lib\\site-packages (from jupyter-client->ipykernel->jupyter) (2.8.0)\n",
      "Requirement already satisfied: jedi>=0.10 in c:\\users\\abc\\anaconda3\\lib\\site-packages (from ipython>=5.0.0->ipykernel->jupyter) (0.13.3)\n",
      "Requirement already satisfied: colorama; sys_platform == \"win32\" in c:\\users\\abc\\anaconda3\\lib\\site-packages (from ipython>=5.0.0->ipykernel->jupyter) (0.4.1)\n",
      "Requirement already satisfied: pickleshare in c:\\users\\abc\\anaconda3\\lib\\site-packages (from ipython>=5.0.0->ipykernel->jupyter) (0.7.5)\n",
      "Requirement already satisfied: backcall in c:\\users\\abc\\anaconda3\\lib\\site-packages (from ipython>=5.0.0->ipykernel->jupyter) (0.1.0)\n",
      "Requirement already satisfied: setuptools>=18.5 in c:\\users\\abc\\anaconda3\\lib\\site-packages (from ipython>=5.0.0->ipykernel->jupyter) (41.0.1)\n",
      "Requirement already satisfied: wcwidth in c:\\users\\abc\\anaconda3\\lib\\site-packages (from prompt_toolkit<2.1.0,>=2.0.0->jupyter-console->jupyter) (0.1.7)\n",
      "Requirement already satisfied: jsonschema!=2.5.0,>=2.4 in c:\\users\\abc\\anaconda3\\lib\\site-packages (from nbformat->notebook->jupyter) (3.0.1)\n",
      "Requirement already satisfied: MarkupSafe>=0.23 in c:\\users\\abc\\anaconda3\\lib\\site-packages (from jinja2->notebook->jupyter) (1.1.1)\n",
      "Requirement already satisfied: webencodings in c:\\users\\abc\\anaconda3\\lib\\site-packages (from bleach->nbconvert->jupyter) (0.5.1)\n",
      "Requirement already satisfied: parso>=0.3.0 in c:\\users\\abc\\anaconda3\\lib\\site-packages (from jedi>=0.10->ipython>=5.0.0->ipykernel->jupyter) (0.5.0)\n",
      "Requirement already satisfied: attrs>=17.4.0 in c:\\users\\abc\\anaconda3\\lib\\site-packages (from jsonschema!=2.5.0,>=2.4->nbformat->notebook->jupyter) (19.1.0)\n",
      "Requirement already satisfied: pyrsistent>=0.14.0 in c:\\users\\abc\\anaconda3\\lib\\site-packages (from jsonschema!=2.5.0,>=2.4->nbformat->notebook->jupyter) (0.14.11)\n",
      "Requirement already satisfied: matplotlib in c:\\users\\abc\\anaconda3\\lib\\site-packages (3.1.0)\n",
      "Requirement already satisfied: cycler>=0.10 in c:\\users\\abc\\anaconda3\\lib\\site-packages (from matplotlib) (0.10.0)\n",
      "Requirement already satisfied: kiwisolver>=1.0.1 in c:\\users\\abc\\anaconda3\\lib\\site-packages (from matplotlib) (1.1.0)\n",
      "Requirement already satisfied: pyparsing!=2.0.4,!=2.1.2,!=2.1.6,>=2.0.1 in c:\\users\\abc\\anaconda3\\lib\\site-packages (from matplotlib) (2.4.0)\n",
      "Requirement already satisfied: python-dateutil>=2.1 in c:\\users\\abc\\anaconda3\\lib\\site-packages (from matplotlib) (2.8.0)\n",
      "Requirement already satisfied: numpy>=1.11 in c:\\users\\abc\\anaconda3\\lib\\site-packages (from matplotlib) (1.16.4)\n",
      "Requirement already satisfied: six in c:\\users\\abc\\anaconda3\\lib\\site-packages (from cycler>=0.10->matplotlib) (1.12.0)\n",
      "Requirement already satisfied: setuptools in c:\\users\\abc\\anaconda3\\lib\\site-packages (from kiwisolver>=1.0.1->matplotlib) (41.0.1)\n"
     ]
    }
   ],
   "source": [
    "!pip install Cython\n",
    "!pip install jupyter\n",
    "!pip install matplotlib"
   ]
  },
  {
   "cell_type": "markdown",
   "metadata": {},
   "source": [
    "# 從 github 下載 tensorflow object detection api"
   ]
  },
  {
   "cell_type": "code",
   "execution_count": 2,
   "metadata": {},
   "outputs": [
    {
     "name": "stderr",
     "output_type": "stream",
     "text": [
      "'git' 不是內部或外部命令、可執行的程式或批次檔。\n"
     ]
    }
   ],
   "source": [
    "!git clone https://github.com/tensorflow/models.git"
   ]
  },
  {
   "cell_type": "markdown",
   "metadata": {},
   "source": [
    "# 安裝 cocoapi"
   ]
  },
  {
   "cell_type": "code",
   "execution_count": null,
   "metadata": {},
   "outputs": [],
   "source": [
    "!git clone https://github.com/cocodataset/cocoapi.git\n",
    "!cd cocoapi/PythonAPI; make; cp -r pycocotools ../../models/research/"
   ]
  },
  {
   "cell_type": "markdown",
   "metadata": {},
   "source": [
    "# 安裝 tensorflow object detection api"
   ]
  },
  {
   "cell_type": "code",
   "execution_count": null,
   "metadata": {},
   "outputs": [],
   "source": [
    "%cd models/research\n",
    "%set_env PYTHONPATH=/content/gdrive/My\\ Drive/models/research:/content/gdrive/My\\ Drive/models/research/slim\n",
    "    \n",
    "!python setup.py build\n",
    "!python setup.py install"
   ]
  },
  {
   "cell_type": "code",
   "execution_count": null,
   "metadata": {},
   "outputs": [],
   "source": [
    "%cd slim\n",
    "!python setup.py build\n",
    "!python setup.py install\n",
    "%cd .."
   ]
  },
  {
   "cell_type": "code",
   "execution_count": null,
   "metadata": {},
   "outputs": [],
   "source": [
    "# 建立放置 protoc 的目錄\n",
    "!mkdir protoc_3.3\n",
    "\n",
    "# 下載與解壓縮 protoc 3.3\n",
    "%cd protoc_3.3\n",
    "!wget https://github.com/google/protobuf/releases/download/v3.3.0/protoc-3.3.0-linux-x86_64.zip\n",
    "!chmod 775 protoc-3.3.0-linux-x86_64.zip\n",
    "!unzip protoc-3.3.0-linux-x86_64.zip\n",
    "%cd ..\n",
    "\n",
    "# 使用 protoc 3.3 編譯\n",
    "!protoc_3.3/bin/protoc object_detection/protos/*.proto --python_out=."
   ]
  },
  {
   "cell_type": "markdown",
   "metadata": {},
   "source": [
    "# (option) 到 models/research/object_detection 開啓 object_detection_tutorial.ipynb 按照步驟執行\n",
    "\n",
    "- 此教材為指導如何使用官方的程式執行 object detection inference"
   ]
  },
  {
   "cell_type": "code",
   "execution_count": null,
   "metadata": {},
   "outputs": [],
   "source": []
  }
 ],
 "metadata": {
  "kernelspec": {
   "display_name": "Python 3",
   "language": "python",
   "name": "python3"
  },
  "language_info": {
   "codemirror_mode": {
    "name": "ipython",
    "version": 3
   },
   "file_extension": ".py",
   "mimetype": "text/x-python",
   "name": "python",
   "nbconvert_exporter": "python",
   "pygments_lexer": "ipython3",
   "version": "3.7.3"
  }
 },
 "nbformat": 4,
 "nbformat_minor": 1
}
